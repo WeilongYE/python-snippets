{
  "metadata": {
    "kernelspec": {
      "name": "python",
      "display_name": "Python (Pyodide)",
      "language": "python"
    },
    "language_info": {
      "codemirror_mode": {
        "name": "python",
        "version": 3
      },
      "file_extension": ".py",
      "mimetype": "text/x-python",
      "name": "python",
      "nbconvert_exporter": "python",
      "pygments_lexer": "ipython3",
      "version": "3.8"
    },
    "colab": {
      "provenance": []
    }
  },
  "nbformat_minor": 0,
  "nbformat": 4,
  "cells": [
    {
      "cell_type": "code",
      "source": [
        "print('hello world - YWL')"
      ],
      "metadata": {
        "trusted": true,
        "id": "ceNGOEpRV5Sf",
        "outputId": "38d47b00-80a2-4347-dd91-a7013c372c3e"
      },
      "outputs": [
        {
          "name": "stdout",
          "text": "hello world - YWL\n",
          "output_type": "stream"
        }
      ],
      "execution_count": null
    },
    {
      "cell_type": "code",
      "source": [],
      "metadata": {
        "trusted": true,
        "id": "-TjDzbGxV5Sg"
      },
      "outputs": [],
      "execution_count": null
    },
    {
      "cell_type": "markdown",
      "source": [
        "test2"
      ],
      "metadata": {
        "id": "UVlQjpQ5V9y3"
      }
    }
  ]
}