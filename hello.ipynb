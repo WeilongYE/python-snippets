{
  "metadata": {
    "kernelspec": {
      "name": "python",
      "display_name": "Python (Pyodide)",
      "language": "python"
    },
    "language_info": {
      "codemirror_mode": {
        "name": "python",
        "version": 3
      },
      "file_extension": ".py",
      "mimetype": "text/x-python",
      "name": "python",
      "nbconvert_exporter": "python",
      "pygments_lexer": "ipython3",
      "version": "3.8"
    },
    "colab": {
      "provenance": []
    }
  },
  "nbformat_minor": 0,
  "nbformat": 4,
  "cells": [
    {
      "cell_type": "code",
      "source": [
        "print('hello world - YWL')"
      ],
      "metadata": {
        "trusted": true,
        "id": "m1Ch8tmlVJet",
        "outputId": "5bdd3a7e-6e09-49bc-9781-d77127c4ba36"
      },
      "outputs": [
        {
          "name": "stdout",
          "text": "hello world - YWL\n",
          "output_type": "stream"
        }
      ],
      "execution_count": null
    },
    {
      "cell_type": "code",
      "source": [
        "import numpy as np"
      ],
      "metadata": {
        "trusted": true,
        "id": "VB8ZvrdzVJev"
      },
      "outputs": [],
      "execution_count": 1
    },
    {
      "cell_type": "code",
      "source": [],
      "metadata": {
        "id": "j3f5isAdVONc"
      },
      "execution_count": null,
      "outputs": []
    }
  ]
}