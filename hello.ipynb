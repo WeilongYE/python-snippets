{
  "metadata": {
    "kernelspec": {
      "name": "python",
      "display_name": "Python (Pyodide)",
      "language": "python"
    },
    "language_info": {
      "codemirror_mode": {
        "name": "python",
        "version": 3
      },
      "file_extension": ".py",
      "mimetype": "text/x-python",
      "name": "python",
      "nbconvert_exporter": "python",
      "pygments_lexer": "ipython3",
      "version": "3.8"
    },
    "colab": {
      "provenance": [],
      "include_colab_link": true
    }
  },
  "nbformat_minor": 0,
  "nbformat": 4,
  "cells": [
    {
      "cell_type": "markdown",
      "metadata": {
        "id": "view-in-github",
        "colab_type": "text"
      },
      "source": [
        "<a href=\"https://colab.research.google.com/github/WeilongYE/python-snippets/blob/main/hello.ipynb\" target=\"_parent\"><img src=\"https://colab.research.google.com/assets/colab-badge.svg\" alt=\"Open In Colab\"/></a>"
      ]
    },
    {
      "cell_type": "code",
      "source": [
        "print('hello world - YWL')"
      ],
      "metadata": {
        "trusted": true,
        "id": "ceNGOEpRV5Sf",
        "outputId": "38d47b00-80a2-4347-dd91-a7013c372c3e"
      },
      "outputs": [
        {
          "name": "stdout",
          "text": "hello world - YWL\n",
          "output_type": "stream"
        }
      ],
      "execution_count": null
    },
    {
      "cell_type": "code",
      "source": [],
      "metadata": {
        "trusted": true,
        "id": "-TjDzbGxV5Sg"
      },
      "outputs": [],
      "execution_count": null
    },
    {
      "cell_type": "markdown",
      "source": [
        "test2"
      ],
      "metadata": {
        "id": "UVlQjpQ5V9y3"
      }
    },
    {
      "cell_type": "markdown",
      "source": [
        "test3"
      ],
      "metadata": {
        "id": "fbmQCxG_Wgs9"
      }
    }
  ]
}