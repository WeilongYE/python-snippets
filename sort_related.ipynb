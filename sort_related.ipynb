{
  "metadata": {
    "kernelspec": {
      "name": "python",
      "display_name": "Python (Pyodide)",
      "language": "python"
    },
    "language_info": {
      "codemirror_mode": {
        "name": "python",
        "version": 3
      },
      "file_extension": ".py",
      "mimetype": "text/x-python",
      "name": "python",
      "nbconvert_exporter": "python",
      "pygments_lexer": "ipython3",
      "version": "3.8"
    },
    "colab": {
      "provenance": [],
      "include_colab_link": true
    }
  },
  "nbformat_minor": 0,
  "nbformat": 4,
  "cells": [
    {
      "cell_type": "markdown",
      "metadata": {
        "id": "view-in-github",
        "colab_type": "text"
      },
      "source": [
        "<a href=\"https://colab.research.google.com/github/WeilongYE/python-snippets/blob/main/sort_related.ipynb\" target=\"_parent\"><img src=\"https://colab.research.google.com/assets/colab-badge.svg\" alt=\"Open In Colab\"/></a>"
      ]
    },
    {
      "cell_type": "markdown",
      "source": [
        "**sort an array-like, return index array**\n",
        "\n"
      ],
      "metadata": {
        "id": "hnhks1yCXpp7"
      }
    },
    {
      "cell_type": "code",
      "source": [
        "import numpy as np"
      ],
      "metadata": {
        "id": "_6D_LHj6X9X0"
      },
      "execution_count": 1,
      "outputs": []
    },
    {
      "cell_type": "code",
      "source": [
        "a = np.array([1.1, 2.2, 3.3, 4.4, 5.5])\n",
        "b = np.argsort(a) # b is an array of indices\n",
        "print(type(b))\n",
        "print(b)"
      ],
      "metadata": {
        "colab": {
          "base_uri": "https://localhost:8080/"
        },
        "id": "CBauWFxeYAXY",
        "outputId": "a60a962d-2ce4-4529-dc75-07208bb4baeb"
      },
      "execution_count": 5,
      "outputs": [
        {
          "output_type": "stream",
          "name": "stdout",
          "text": [
            "<class 'numpy.ndarray'>\n",
            "[0 1 2 3 4]\n"
          ]
        }
      ]
    },
    {
      "cell_type": "markdown",
      "source": [
        "**Return the indices of the top 2 elements from a sorted array in descending order**"
      ],
      "metadata": {
        "id": "LG3kCRNraO8G"
      }
    },
    {
      "cell_type": "code",
      "source": [
        "a = np.array([1.1, 2.2, 3.3, 4.4, 5.5])\n",
        "b = np.argsort(a) # b is an array of indices\n",
        "c = b[-2:][::-1]\n",
        "print(c)"
      ],
      "metadata": {
        "colab": {
          "base_uri": "https://localhost:8080/"
        },
        "id": "2rdbDhHxZwH-",
        "outputId": "c3873e9d-6440-4a86-e8b3-83ba386933f1"
      },
      "execution_count": 8,
      "outputs": [
        {
          "output_type": "stream",
          "name": "stdout",
          "text": [
            "[4 3]\n"
          ]
        }
      ]
    },
    {
      "cell_type": "code",
      "source": [],
      "metadata": {
        "id": "2VniTAlhaaXm"
      },
      "execution_count": null,
      "outputs": []
    }
  ]
}